{
  "nbformat": 4,
  "nbformat_minor": 0,
  "metadata": {
    "colab": {
      "provenance": [],
      "gpuType": "T4"
    },
    "kernelspec": {
      "name": "python3",
      "display_name": "Python 3"
    },
    "language_info": {
      "name": "python"
    },
    "accelerator": "GPU"
  },
  "cells": [
    {
      "cell_type": "code",
      "source": [
        "#Import libraries"
      ],
      "metadata": {
        "id": "NgmNCHXSm_zf"
      },
      "execution_count": null,
      "outputs": []
    },
    {
      "cell_type": "code",
      "execution_count": null,
      "metadata": {
        "id": "y58aqpbmZZJk"
      },
      "outputs": [],
      "source": [
        "import tensorflow as tf\n",
        "from tensorflow.keras.models import Sequential\n",
        "from tensorflow.keras.layers import Conv2D, MaxPooling2D, Flatten, Dense, Dropout, BatchNormalization\n",
        "from tensorflow.keras.preprocessing.image import ImageDataGenerator\n",
        "from tensorflow.keras.applications import ResNet50\n",
        "from tensorflow.keras.applications.resnet50 import preprocess_input\n",
        "from tensorflow.keras.callbacks import EarlyStopping, ModelCheckpoint\n",
        "from sklearn.metrics import classification_report, confusion_matrix\n",
        "import seaborn as sns\n",
        "import matplotlib.pyplot as plt\n",
        "import numpy as np\n",
        "import os"
      ]
    },
    {
      "cell_type": "code",
      "source": [
        "#Mount google drive"
      ],
      "metadata": {
        "id": "LjNYTJQenKFB"
      },
      "execution_count": null,
      "outputs": []
    },
    {
      "cell_type": "code",
      "source": [
        "from google.colab import drive\n",
        "drive.mount('/content/drive')"
      ],
      "metadata": {
        "id": "-vA_c81vbAa1"
      },
      "execution_count": null,
      "outputs": []
    },
    {
      "cell_type": "code",
      "source": [
        "#Load dataset"
      ],
      "metadata": {
        "id": "hhXG9Bu9nQu_"
      },
      "execution_count": null,
      "outputs": []
    },
    {
      "cell_type": "code",
      "source": [
        "img_height, img_width = 224, 224\n",
        "batch_size = 32\n",
        "\n",
        "train_dir = \"/content/drive/MyDrive/Tumour-20250719T154752Z-1-001/Tumour/train\"\n",
        "val_dir = \"/content/drive/MyDrive/Tumour-20250719T154752Z-1-001/Tumour/valid\"\n",
        "\n",
        "train_datagen = ImageDataGenerator(\n",
        "    rescale=1./255,\n",
        "    horizontal_flip=True,\n",
        "    zoom_range=0.2,\n",
        "    shear_range=0.2,\n",
        "    rotation_range=10\n",
        ")\n",
        "\n",
        "val_datagen = ImageDataGenerator(rescale=1./255)\n",
        "\n",
        "train_data = train_datagen.flow_from_directory(\n",
        "    train_dir,\n",
        "    target_size=(img_height, img_width),\n",
        "    batch_size=batch_size,\n",
        "    class_mode='categorical'\n",
        ")\n",
        "\n",
        "val_data = val_datagen.flow_from_directory(\n",
        "    val_dir,\n",
        "    target_size=(img_height, img_width),\n",
        "    batch_size=batch_size,\n",
        "    class_mode='categorical'\n",
        ")"
      ],
      "metadata": {
        "id": "jJkfoF7rbEYU"
      },
      "execution_count": null,
      "outputs": []
    },
    {
      "cell_type": "code",
      "source": [
        "#Build custom CNN model"
      ],
      "metadata": {
        "id": "zVIv4STjnWt0"
      },
      "execution_count": null,
      "outputs": []
    },
    {
      "cell_type": "code",
      "source": [
        "# Define input shape\n",
        "input_shape = (img_height, img_width, 3)\n",
        "\n",
        "# Define number of tumor categories\n",
        "num_classes = train_data.num_classes\n",
        "\n",
        "# Build the model\n",
        "cnn_model = Sequential()\n",
        "\n",
        "# Block 1\n",
        "cnn_model.add(Conv2D(32, (3, 3), activation='relu', padding='same', input_shape=input_shape))\n",
        "cnn_model.add(BatchNormalization())\n",
        "cnn_model.add(MaxPooling2D(pool_size=(2, 2)))\n",
        "\n",
        "# Block 2\n",
        "cnn_model.add(Conv2D(64, (3, 3), activation='relu', padding='same'))\n",
        "cnn_model.add(BatchNormalization())\n",
        "cnn_model.add(MaxPooling2D(pool_size=(2, 2)))\n",
        "cnn_model.add(Dropout(0.3))\n",
        "\n",
        "# Block 3\n",
        "cnn_model.add(Conv2D(128, (3, 3), activation='relu', padding='same'))\n",
        "cnn_model.add(BatchNormalization())\n",
        "cnn_model.add(MaxPooling2D(pool_size=(2, 2)))\n",
        "cnn_model.add(Dropout(0.4))\n",
        "\n",
        "# Flatten and Fully Connected Layers\n",
        "cnn_model.add(Flatten())\n",
        "cnn_model.add(Dense(128, activation='relu'))\n",
        "cnn_model.add(BatchNormalization())\n",
        "cnn_model.add(Dropout(0.5))\n",
        "\n",
        "# Output layer\n",
        "cnn_model.add(Dense(num_classes, activation='softmax'))\n",
        "\n",
        "cnn_model.compile(optimizer='adam', loss='categorical_crossentropy', metrics=['accuracy'])\n",
        "\n",
        "cnn_model.summary()"
      ],
      "metadata": {
        "id": "ceoYWovkm5Mp"
      },
      "execution_count": null,
      "outputs": []
    },
    {
      "cell_type": "code",
      "source": [
        "#Train custom CNN"
      ],
      "metadata": {
        "id": "QYuZ5_Qongll"
      },
      "execution_count": null,
      "outputs": []
    },
    {
      "cell_type": "code",
      "source": [
        "# Define Callbacks\n",
        "early_stop = EarlyStopping(\n",
        "    monitor='val_loss',\n",
        "    patience=5,\n",
        "    restore_best_weights=True,\n",
        "    verbose=1\n",
        ")\n",
        "\n",
        "checkpoint = ModelCheckpoint(\n",
        "    filepath='best_custom_cnn_model.h5',\n",
        "    save_best_only=True,\n",
        "    monitor='val_accuracy',\n",
        "    verbose=1\n",
        ")\n",
        "\n",
        "# Train the model\n",
        "history_cnn = cnn_model.fit(\n",
        "    train_data,\n",
        "    epochs=5,\n",
        "    validation_data=val_data,\n",
        "    callbacks=[early_stop, checkpoint]\n",
        ")"
      ],
      "metadata": {
        "id": "koll0RJUm6UQ"
      },
      "execution_count": null,
      "outputs": []
    },
    {
      "cell_type": "code",
      "source": [
        "#Transfer Learning with ResNet50"
      ],
      "metadata": {
        "id": "AsPan_luxYY_"
      },
      "execution_count": null,
      "outputs": []
    },
    {
      "cell_type": "code",
      "source": [
        "base_model = ResNet50(weights='imagenet', include_top=False, input_shape=(img_height, img_width, 3))\n",
        "base_model.trainable = False  # Freeze base layers\n",
        "\n",
        "model_resnet = tf.keras.Sequential([\n",
        "    base_model,\n",
        "    tf.keras.layers.GlobalAveragePooling2D(),\n",
        "    tf.keras.layers.Dense(128, activation='relu'),\n",
        "    tf.keras.layers.Dropout(0.5),\n",
        "    tf.keras.layers.Dense(train_data.num_classes, activation='softmax')\n",
        "])\n",
        "\n",
        "model_resnet.compile(optimizer='adam', loss='categorical_crossentropy', metrics=['accuracy'])\n",
        "model_resnet.summary()\n",
        "\n",
        "history_resnet = model_resnet.fit(\n",
        "    train_data,\n",
        "    validation_data=val_data,\n",
        "    epochs=5,\n",
        "    callbacks=[early_stop, ModelCheckpoint(\"best_resnet_model.h5\", save_best_only=True)]\n",
        ")"
      ],
      "metadata": {
        "id": "MZqork8MxnBL"
      },
      "execution_count": null,
      "outputs": []
    },
    {
      "cell_type": "code",
      "source": [
        "#Model Evaluation"
      ],
      "metadata": {
        "id": "AzN_j0Emxp99"
      },
      "execution_count": null,
      "outputs": []
    },
    {
      "cell_type": "code",
      "source": [
        "# Get true labels and predicted labels\n",
        "val_data.reset()\n",
        "y_true = val_data.classes\n",
        "y_pred_probs = model_resnet.predict(val_data)\n",
        "y_pred = np.argmax(y_pred_probs, axis=1)\n",
        "\n",
        "# Get class labels\n",
        "class_labels = list(val_data.class_indices.keys())\n",
        "\n",
        "report = classification_report(y_true, y_pred, target_names=class_labels)\n",
        "print(\"Classification Report:\\n\", report)\n",
        "\n",
        "cm = confusion_matrix(y_true, y_pred)\n",
        "\n",
        "plt.figure(figsize=(8, 6))\n",
        "sns.heatmap(cm, annot=True, fmt='d', cmap='Blues', xticklabels=class_labels, yticklabels=class_labels)\n",
        "plt.title(\"Confusion Matrix\")\n",
        "plt.xlabel(\"Predicted\")\n",
        "plt.ylabel(\"True\")\n",
        "plt.show()"
      ],
      "metadata": {
        "id": "7HFbpZ8oxp6g"
      },
      "execution_count": null,
      "outputs": []
    },
    {
      "cell_type": "code",
      "source": [
        "def plot_history(history, title='Model'):\n",
        "    acc = history.history['accuracy']\n",
        "    val_acc = history.history['val_accuracy']\n",
        "    loss = history.history['loss']\n",
        "    val_loss = history.history['val_loss']\n",
        "    epochs_range = range(1, len(acc) + 1) # Corrected to get the number of epochs from history\n",
        "\n",
        "    plt.figure(figsize=(8, 4))\n",
        "\n",
        "    # Accuracy plot\n",
        "    plt.subplot(1, 2, 1)\n",
        "    plt.plot(epochs_range, acc, label='Train Accuracy', color='green')\n",
        "    plt.plot(epochs_range, val_acc, label='Val Accuracy', color='orange')\n",
        "    plt.title(f'{title} - Accuracy')\n",
        "    plt.xlabel('Epoch')\n",
        "    plt.ylabel('Accuracy')\n",
        "    plt.legend()\n",
        "\n",
        "    # Loss plot\n",
        "    plt.subplot(1, 2, 2)\n",
        "    plt.plot(epochs_range, loss, label='Train Loss', color='blue')\n",
        "    plt.plot(epochs_range, val_loss, label='Val Loss', color='red')\n",
        "    plt.title(f'{title} - Loss')\n",
        "    plt.xlabel('Epoch')\n",
        "    plt.ylabel('Loss')\n",
        "    plt.legend()\n",
        "\n",
        "    plt.tight_layout()\n",
        "    plt.show()\n",
        "\n",
        "\n",
        "plot_history(history_resnet, title='ResNet50')\n",
        "plot_history(history_cnn, title='Custom CNN')"
      ],
      "metadata": {
        "id": "GtYHwn3l8kc7"
      },
      "execution_count": null,
      "outputs": []
    },
    {
      "cell_type": "code",
      "source": [
        "#Model Comparison"
      ],
      "metadata": {
        "id": "dsbJ4TVC81-S"
      },
      "execution_count": null,
      "outputs": []
    },
    {
      "cell_type": "code",
      "source": [
        "val_loss, val_acc = model_resnet.evaluate(val_data)\n",
        "print(f\"ResNet50 Validation Accuracy: {val_acc*100:.2f}%\")\n",
        "\n",
        "val_loss_cnn, val_acc_cnn = cnn_model.evaluate(val_data)\n",
        "print(f\"Custom CNN Validation Accuracy: {val_acc_cnn*100:.2f}%\")"
      ],
      "metadata": {
        "id": "GqK7NJ0ExpyG"
      },
      "execution_count": null,
      "outputs": []
    },
    {
      "cell_type": "code",
      "source": [
        "# Custom CNN model is the best model"
      ],
      "metadata": {
        "id": "v5u23d-Jxpuh"
      },
      "execution_count": null,
      "outputs": []
    },
    {
      "cell_type": "code",
      "source": [
        "import os\n",
        "save_path = '/content/drive/MyDrive/brain_tumor_models'\n",
        "os.makedirs(save_path, exist_ok=True)"
      ],
      "metadata": {
        "id": "-zVm2d8B_132"
      },
      "execution_count": null,
      "outputs": []
    },
    {
      "cell_type": "code",
      "source": [
        "import shutil\n",
        "shutil.move('best_custom_cnn_model.h5', f'{save_path}/best_custom_cnn_model.h5')"
      ],
      "metadata": {
        "id": "ID8v5DgF0sk5"
      },
      "execution_count": null,
      "outputs": []
    },
    {
      "cell_type": "code",
      "source": [
        "# STREAMLIT APP CODE"
      ],
      "metadata": {
        "id": "sVEDHOt71QSY"
      },
      "execution_count": null,
      "outputs": []
    },
    {
      "cell_type": "code",
      "source": [
        "!pip install streamlit streamlit_option_menu"
      ],
      "metadata": {
        "id": "u1cw2AXu1QV7"
      },
      "execution_count": null,
      "outputs": []
    },
    {
      "cell_type": "code",
      "source": [
        "%%writefile Tumor.py\n",
        "import streamlit as st\n",
        "from tensorflow.keras.models import load_model\n",
        "from tensorflow.keras.preprocessing.image import load_img, img_to_array\n",
        "import numpy as np\n",
        "\n",
        "# Load the trained model\n",
        "model = load_model(r\"/content/drive/MyDrive/brain_tumor_models/best_custom_cnn_model.h5\")\n",
        "\n",
        "# Define class names\n",
        "class_names = ['glioma', 'meningioma', 'no_tumor', 'pituitary']\n",
        "\n",
        "st.title(\"🧠 Brain Tumor MRI Classification\")\n",
        "st.write(\"📤 Upload an MRI image to predict the tumor type.\")\n",
        "\n",
        "# Upload image\n",
        "uploaded_file = st.file_uploader(\"Choose an MRI image...\", type=[\"jpg\", \"jpeg\", \"png\"])\n",
        "\n",
        "if uploaded_file is not None:\n",
        "    st.image(uploaded_file, caption='Uploaded MRI Image', use_container_width=True)\n",
        "\n",
        "    # Preprocess the image\n",
        "    img = load_img(uploaded_file, target_size=(224, 224))\n",
        "    img_array = img_to_array(img)\n",
        "    img_array = img_array / 255.0\n",
        "    img_array = np.expand_dims(img_array, axis=0)\n",
        "\n",
        "    # Make prediction\n",
        "    prediction = model.predict(img_array)\n",
        "    class_index = np.argmax(prediction)\n",
        "    class_name = class_names[class_index]\n",
        "    confidence = np.max(prediction)\n",
        "\n",
        "    st.success(f\"🧾 **Prediction**: {class_name} ({confidence * 100:.2f}%)\")"
      ],
      "metadata": {
        "id": "LI0fAgsu1QQe"
      },
      "execution_count": null,
      "outputs": []
    },
    {
      "cell_type": "code",
      "source": [
        "!wget -q -O - ipv4.icanhazip.com"
      ],
      "metadata": {
        "id": "_DoaXH_x1QOZ"
      },
      "execution_count": null,
      "outputs": []
    },
    {
      "cell_type": "code",
      "source": [
        "! streamlit run Tumor.py & npx localtunnel --port 8501"
      ],
      "metadata": {
        "colab": {
          "base_uri": "https://localhost:8080/"
        },
        "id": "LG4DzoDe1QMh",
        "outputId": "cc458ea0-1923-4509-8b46-a4b0bbbf0cba"
      },
      "execution_count": 22,
      "outputs": [
        {
          "output_type": "stream",
          "name": "stdout",
          "text": [
            "\u001b[34m  Stopping...\u001b[0m\n",
            "^C\n"
          ]
        }
      ]
    },
    {
      "cell_type": "code",
      "source": [],
      "metadata": {
        "id": "hCLaotob1QKO"
      },
      "execution_count": null,
      "outputs": []
    },
    {
      "cell_type": "code",
      "source": [],
      "metadata": {
        "id": "FIT9X25j1QHu"
      },
      "execution_count": null,
      "outputs": []
    }
  ]
}